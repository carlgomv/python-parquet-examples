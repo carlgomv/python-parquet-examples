{
 "cells": [
  {
   "cell_type": "markdown",
   "metadata": {},
   "source": [
    "### Preparación ambiente"
   ]
  },
  {
   "cell_type": "code",
   "execution_count": 1,
   "metadata": {},
   "outputs": [],
   "source": [
    "import csv\n",
    "import os\n",
    "import pandas as pd\n",
    "import re"
   ]
  },
  {
   "cell_type": "code",
   "execution_count": 2,
   "metadata": {},
   "outputs": [
    {
     "data": {
      "text/plain": [
       "'2.0.1'"
      ]
     },
     "execution_count": 2,
     "metadata": {},
     "output_type": "execute_result"
    }
   ],
   "source": [
    "pd.__version__"
   ]
  },
  {
   "attachments": {},
   "cell_type": "markdown",
   "metadata": {},
   "source": [
    "Define el path utilizando la función join del módulo os   \n",
    "G:\\Mi unidad\\Proyectos\\En Curso\\EGS\\USTA\\Migración   \n",
    "C:\\Users\\carlo\\Google Drive\\Proyectos\\En Curso\\EGS\\USTA\\Migración"
   ]
  },
  {
   "cell_type": "markdown",
   "metadata": {},
   "source": [
    "/Users/carlos/Library/CloudStorage/GoogleDrive-carlos.gomzv@gmail.com/My Drive/Proyectos/En Curso/EGS/Mariana"
   ]
  },
  {
   "cell_type": "code",
   "execution_count": 3,
   "metadata": {},
   "outputs": [
    {
     "name": "stdout",
     "output_type": "stream",
     "text": [
      "customers_19102023.csv\n",
      "processes_25102023.csv\n",
      ".DS_Store\n",
      "out_customers_25102023.csv\n",
      "TRACE_PROCESSES_19102023.csv\n",
      "out_processes_19102023.csv\n",
      "PROCESS_PART_19102023.csv\n",
      "out_TRACE_PROCESSES_19102023.csv\n",
      "TRACE_PROCESSES_25102023.csv\n",
      "out_processes_25102023.csv\n",
      "out_customers_19102023.csv\n",
      "processes_19102023.csv\n",
      "customers_25102023.csv\n",
      "out_TRACE_PROCESSES_25102023.csv\n",
      "PROCESS_PART_25102023.csv\n"
     ]
    }
   ],
   "source": [
    "path = os.path.join(\"/Users\",\"carlos\",\"Library\",\"CloudStorage\", \"GoogleDrive-carlos.gomzv@gmail.com\",\"My Drive\",\"Proyectos\", \"En Curso\", \"EGS\", \"Mariana\")\n",
    "\n",
    "# Imprime el path resultante\n",
    "# print(path)\n",
    "if os.path.exists(path) and os.path.isdir(path):\n",
    "    # Listar los archivos en la ruta\n",
    "    archivos = os.listdir(path)\n",
    "\n",
    "    # Itera a través de los nombres de los archivos\n",
    "    for archivo in archivos:\n",
    "        print(archivo)\n",
    "else:\n",
    "    print(\"La ruta \"+ path +\" especificada no existe o no es un directorio válido.\")\n"
   ]
  },
  {
   "attachments": {},
   "cell_type": "markdown",
   "metadata": {},
   "source": [
    "Especifica la rutas y los archivos CSV que se quiere leer y escribir"
   ]
  },
  {
   "cell_type": "code",
   "execution_count": 4,
   "metadata": {},
   "outputs": [],
   "source": [
    "# Especifica la ruta del archivo CSV que quiere leer\n",
    "archivo_entrada = path + \"/processes_25102023.csv\"\n",
    "\n",
    "# Especifica la ruta del archivo CSV que quiere guardar\n",
    "archivo_salida = path + \"/NEWout_processes_25102023.csv\"\n"
   ]
  },
  {
   "cell_type": "markdown",
   "metadata": {},
   "source": [
    "### Validaciones"
   ]
  },
  {
   "cell_type": "code",
   "execution_count": 5,
   "metadata": {},
   "outputs": [],
   "source": [
    "df = pd.read_csv(archivo_entrada, encoding=\"utf-8\", sep=\"|\")"
   ]
  },
  {
   "cell_type": "code",
   "execution_count": null,
   "metadata": {},
   "outputs": [],
   "source": [
    "df.describe()"
   ]
  },
  {
   "cell_type": "code",
   "execution_count": null,
   "metadata": {},
   "outputs": [],
   "source": [
    "df.info()"
   ]
  },
  {
   "cell_type": "code",
   "execution_count": null,
   "metadata": {},
   "outputs": [],
   "source": [
    "df.columns"
   ]
  },
  {
   "cell_type": "code",
   "execution_count": null,
   "metadata": {},
   "outputs": [],
   "source": [
    "df.tail(10)"
   ]
  },
  {
   "cell_type": "code",
   "execution_count": null,
   "metadata": {},
   "outputs": [],
   "source": [
    "df.head().T"
   ]
  },
  {
   "cell_type": "code",
   "execution_count": null,
   "metadata": {},
   "outputs": [],
   "source": [
    "df[['OBSERVATIONS']]"
   ]
  },
  {
   "cell_type": "code",
   "execution_count": null,
   "metadata": {},
   "outputs": [],
   "source": [
    "df[df.CASE_NUMBER == '231123'][['ACTS','OBSERVATIONS','PRETENSIONS']]"
   ]
  },
  {
   "cell_type": "code",
   "execution_count": null,
   "metadata": {},
   "outputs": [],
   "source": [
    "df[['ACTS','OBSERVATIONS','PRETENSIONS']]"
   ]
  },
  {
   "cell_type": "code",
   "execution_count": null,
   "metadata": {},
   "outputs": [],
   "source": [
    "df.PROCESS_ID.unique()"
   ]
  },
  {
   "cell_type": "code",
   "execution_count": null,
   "metadata": {},
   "outputs": [],
   "source": [
    "df['PROCESS_ID'].value_counts()"
   ]
  },
  {
   "cell_type": "code",
   "execution_count": null,
   "metadata": {},
   "outputs": [],
   "source": [
    "df[df.PROCESS_ID == 937215]"
   ]
  },
  {
   "cell_type": "code",
   "execution_count": null,
   "metadata": {},
   "outputs": [],
   "source": [
    "df[df.case_number == 'RAD2022000213'][['acts','pretensions','observations']]"
   ]
  },
  {
   "cell_type": "markdown",
   "metadata": {},
   "source": [
    "### Limpieza del archivo"
   ]
  },
  {
   "cell_type": "code",
   "execution_count": 6,
   "metadata": {},
   "outputs": [
    {
     "data": {
      "text/plain": [
       "Index(['EQUIVALENTE', 'FECHA_CREACION', 'CASE_NUMBER', 'ACTS', 'PRETENSIONS',\n",
       "       'QUERY_LINK', 'OBSERVATIONS', 'STUDENT_ID', 'ASESOR_ID', 'MONITOR_ID',\n",
       "       'AREA_ID', 'THEME_ID', 'TYPE_AREA_ID', 'OFFICE_ID', 'SUBOFFICE_ID',\n",
       "       'STATE_PROCESS_ID', 'STATE_REASON_ID', 'STATE_REASON_DATE', 'PARTY_ID',\n",
       "       'DEPARTMENT_ID', 'CITY_ID', 'ORGAN_ID', 'ORGAN_NUMBER', 'SPECIALTY_ID',\n",
       "       'QUERY_ID', 'TO_CHAR(CREATED_AT,'YYYY-MM-DDHH24:MI:SS')',\n",
       "       'TO_CHAR(UPDATED_AT,'YYYY-MM-DDHH24:MI:SS')'],\n",
       "      dtype='object')"
      ]
     },
     "execution_count": 6,
     "metadata": {},
     "output_type": "execute_result"
    }
   ],
   "source": [
    "# columnas=['acts','pretensions','observations']\n",
    "columnas=df.columns\n",
    "columnas"
   ]
  },
  {
   "cell_type": "markdown",
   "metadata": {},
   "source": [
    "#### Limpieza quitando tildes y Ñ ñ"
   ]
  },
  {
   "cell_type": "code",
   "execution_count": 7,
   "metadata": {},
   "outputs": [],
   "source": [
    "# Quitar tildes y ñs\n",
    "for columna in columnas:\n",
    "    df[columna] = df[columna].apply(lambda x: re.sub(r'[^@a-zA-Z0-9 .,;:\\-_]+', '', str(x)))"
   ]
  },
  {
   "cell_type": "markdown",
   "metadata": {},
   "source": [
    "#### Limpieza conservando tildes y ñ Ñ"
   ]
  },
  {
   "cell_type": "code",
   "execution_count": 121,
   "metadata": {},
   "outputs": [],
   "source": [
    "for columna in columnas:\n",
    "    df[columna] = df[columna].apply(lambda x: re.sub(r'[^@áéíóúñüÑa-zA-Z0-9 .,;:\\-_]+', '', str(x)))"
   ]
  },
  {
   "cell_type": "code",
   "execution_count": null,
   "metadata": {},
   "outputs": [],
   "source": [
    "df.head().T"
   ]
  },
  {
   "cell_type": "markdown",
   "metadata": {},
   "source": [
    "#### NULL para MySQL"
   ]
  },
  {
   "cell_type": "code",
   "execution_count": 8,
   "metadata": {},
   "outputs": [],
   "source": [
    "for columna in columnas:\n",
    "    df[columna].fillna('NULL', inplace=True)\n",
    "    df.loc[df[columna] == 'nan', columna] = 'NULL'"
   ]
  },
  {
   "cell_type": "code",
   "execution_count": null,
   "metadata": {},
   "outputs": [],
   "source": [
    "df.head().T"
   ]
  },
  {
   "cell_type": "code",
   "execution_count": 9,
   "metadata": {},
   "outputs": [],
   "source": [
    "df.to_csv(archivo_salida, sep='|', quotechar = '\"', index=False)"
   ]
  },
  {
   "attachments": {},
   "cell_type": "markdown",
   "metadata": {},
   "source": [
    "---"
   ]
  },
  {
   "cell_type": "markdown",
   "metadata": {},
   "source": [
    "### ESTO ES UNA PRUEBA ... NO SE DEBE EJECUTAR"
   ]
  },
  {
   "cell_type": "code",
   "execution_count": null,
   "metadata": {},
   "outputs": [],
   "source": [
    "with open(archivo_entrada, 'r', encoding='utf-8') as archivo_original:\n",
    "    # Lee el contenido del archivo\n",
    "    contenido = archivo_original.read()\n",
    "\n",
    "# Remueve caracteres no deseados (en este caso, saltos de línea)\n",
    "contenido_limpio = contenido.replace('\\n', '')\n",
    "\n",
    "# Crea un nuevo archivo y escribe el contenido limpio\n",
    "with open('archivo_limpio.csv', 'w') as archivo_limpio:\n",
    "    archivo_limpio.write(contenido_limpio)"
   ]
  },
  {
   "cell_type": "code",
   "execution_count": null,
   "metadata": {},
   "outputs": [],
   "source": [
    "import csv\n",
    "\n",
    "# Abre el archivo CSV original\n",
    "with open(archivo_entrada, 'r', newline='', encoding='utf-8') as archivo_original:\n",
    "    # Lee el contenido del archivo y conviértelo en una lista de diccionarios\n",
    "    lector_csv = csv.DictReader(archivo_original)\n",
    "    contenido = list(lector_csv)\n",
    "\n",
    "# Remueve los campos no deseados de cada fila\n",
    "# for fila in contenido:\n",
    "#     del fila['campo_no_deseado_1']\n",
    "#     del fila['campo_no_deseado_2']\n",
    "    # Añade más líneas como la anterior para cada campo que quieras remover\n",
    "\n",
    "# Crea un nuevo archivo CSV y escribe el contenido limpio\n",
    "with open('archivo_limpio.csv', 'w', newline='') as archivo_limpio:\n",
    "    escritor_csv = csv.DictWriter(archivo_limpio, fieldnames=lector_csv.fieldnames)\n",
    "    escritor_csv.writeheader()\n",
    "    escritor_csv.writerows(contenido)\n"
   ]
  },
  {
   "attachments": {},
   "cell_type": "markdown",
   "metadata": {},
   "source": [
    "---"
   ]
  }
 ],
 "metadata": {
  "kernelspec": {
   "display_name": "Python 3",
   "language": "python",
   "name": "python3"
  },
  "language_info": {
   "codemirror_mode": {
    "name": "ipython",
    "version": 3
   },
   "file_extension": ".py",
   "mimetype": "text/x-python",
   "name": "python",
   "nbconvert_exporter": "python",
   "pygments_lexer": "ipython3",
   "version": "3.9.6"
  },
  "orig_nbformat": 4
 },
 "nbformat": 4,
 "nbformat_minor": 2
}
